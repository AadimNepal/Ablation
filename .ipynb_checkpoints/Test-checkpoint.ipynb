{
 "cells": [
  {
   "cell_type": "code",
   "execution_count": 6,
   "id": "52f4580a",
   "metadata": {},
   "outputs": [],
   "source": [
    "# BARE MINIMUM TEST - Exact Model Configs from vllm_model.py\n",
    "\n",
    "from gsm8 import GSM8KLoader, Math500Loader, TriviaQALoader, MMLULoader\n",
    "from math_trainer import MathTrainer\n",
    "from math_500_trainer import Math500Trainer\n",
    "from trivia_trainer import TriviaTrainer\n",
    "from mmlu_trainer import MMLUTrainer\n",
    "from transformers import AutoModelForCausalLM, AutoTokenizer\n",
    "import torch"
   ]
  },
  {
   "cell_type": "code",
   "execution_count": 7,
   "id": "5c6adddc",
   "metadata": {},
   "outputs": [],
   "source": [
    "MODEL_CONFIGS = {\n",
    "    \"qwen-base\": {\n",
    "        \"model_id\": \"Qwen/Qwen2.5-7B\",\n",
    "        \"temp\": 0.7, \"top_p\": 0.9, \"max_tokens\": 1000\n",
    "    },\n",
    "    \"qwen-instruct\": {\n",
    "        \"model_id\": \"Qwen/Qwen2.5-7B-Instruct\", \n",
    "        \"temp\": 0.7, \"top_p\": 0.9, \"max_tokens\": 100\n",
    "    },\n",
    "    \"deepseek-distilled\": {\n",
    "        \"model_id\": \"deepseek-ai/deepseek-R1-Distill-Qwen-7B\",\n",
    "        \"temp\": 0.7, \"top_p\": 0.9, \"max_tokens\": 10\n",
    "    },\n",
    "    \"llama-base\": {\n",
    "        \"model_id\": \"meta-llama/Llama-3.1-8B\",\n",
    "        \"temp\": 0.7, \"top_p\": 0.9, \"max_tokens\": 1000\n",
    "    },\n",
    "    \"llama-instruct\": {\n",
    "        \"model_id\": \"meta-llama/Llama-3.1-8B-Instruct\",\n",
    "        \"temp\": 0.7, \"top_p\": 0.9, \"max_tokens\": 256\n",
    "    },\n",
    "    \"llama-distilled\": {\n",
    "        \"model_id\": \"deepseek-ai/DeepSeek-R1-Distill-Llama-8B\",\n",
    "        \"temp\": 0.7, \"top_p\": 0.9, \"max_tokens\": 1000\n",
    "    },\n",
    "    \"open-reasoner\": {\n",
    "        \"model_id\": \"Open-Reasoner-Zero/Open-Reasoner-Zero-7B\",\n",
    "        \"temp\": 0.7, \"top_p\": 0.9, \"max_tokens\": 1000\n",
    "    },\n",
    "    \"llama-rl\": {\n",
    "        \"model_id\": \"hkust-nlp/Llama-3.1-8B-SimpleRL-Zoo\",\n",
    "        \"temp\": 0.7, \"top_p\": 0.9, \"max_tokens\": 256\n",
    "    }\n",
    "}"
   ]
  },
  {
   "cell_type": "code",
   "execution_count": 8,
   "id": "96e6a341",
   "metadata": {},
   "outputs": [
    {
     "name": "stdout",
     "output_type": "stream",
     "text": [
      "Loading qwen-instruct: Qwen/Qwen2.5-7B-Instruct\n"
     ]
    },
    {
     "data": {
      "application/vnd.jupyter.widget-view+json": {
       "model_id": "5a7f0e88180346aeb1c6193eda77e718",
       "version_major": 2,
       "version_minor": 0
      },
      "text/plain": [
       "Loading checkpoint shards:   0%|          | 0/4 [00:00<?, ?it/s]"
      ]
     },
     "metadata": {},
     "output_type": "display_data"
    }
   ],
   "source": [
    "# CHANGE MODEL HERE - EXACT MATCH TO YOUR VLLM CODE\n",
    "MODEL_NAME = \"qwen-instruct\"  # Change to any key above\n",
    "\n",
    "config = MODEL_CONFIGS[MODEL_NAME]\n",
    "print(f\"Loading {MODEL_NAME}: {config['model_id']}\")\n",
    "\n",
    "# Load model with CPU settings\n",
    "tokenizer = AutoTokenizer.from_pretrained(config[\"model_id\"], trust_remote_code=True)\n",
    "model = AutoModelForCausalLM.from_pretrained(\n",
    "    config[\"model_id\"], torch_dtype=torch.float32, device_map=\"cpu\", trust_remote_code=True\n",
    ")"
   ]
  },
  {
   "cell_type": "code",
   "execution_count": 5,
   "id": "ade517e7",
   "metadata": {},
   "outputs": [
    {
     "name": "stdout",
     "output_type": "stream",
     "text": [
      "Convert the point $(0,3)$ in rectangular coordinates to polar coordinates.  Enter your answer in the form $(r,\\theta),$ where $r > 0$ and $0 \\le \\theta < 2 \\pi.$\n"
     ]
    }
   ],
   "source": [
    "trainers = {\n",
    "    'GSM8K': MathTrainer,\n",
    "    'Math500': Math500Trainer,\n",
    "    'TriviaQA': TriviaTrainer, \n",
    "    'MMLU': MMLUTrainer\n",
    "}"
   ]
  },
  {
   "cell_type": "code",
   "execution_count": 6,
   "id": "eb5b4d65",
   "metadata": {},
   "outputs": [
    {
     "name": "stdout",
     "output_type": "stream",
     "text": [
      "We have that $r = \\sqrt{0^2 + 3^2} = 3.$  Also, if we draw the line connecting the origin and $(0,3),$ this line makes an angle of $\\frac{\\pi}{2}$ with the positive $x$-axis.\n",
      "\n",
      "[asy]\n",
      "unitsize(0.8 cm);\n",
      "\n",
      "draw((-0.5,0)--(3.5,0));\n",
      "draw((0,-0.5)--(0,3.5));\n",
      "draw(arc((0,0),3,0,90),red,Arrow(6));\n",
      "\n",
      "dot((0,3), red);\n",
      "label(\"$(0,3)$\", (0,3), W);\n",
      "dot((3,0), red);\n",
      "[/asy]\n",
      "\n",
      "Therefore, the polar coordinates are $\\boxed{\\left( 3, \\frac{\\pi}{2} \\right)}.$\n"
     ]
    }
   ],
   "source": [
    "# 6. TEST LOOP\n",
    "for name, dataset in datasets.items():\n",
    "    print(f\"\\n{'='*50}\")\n",
    "    print(f\"TESTING {name}\")\n",
    "    print(f\"{'='*50}\")\n",
    "    \n",
    "    trainer = trainers[name](model, dataset, model_name=\"test\")\n",
    "    \n",
    "    for i in range(2):  # Only 2 problems\n",
    "        item = dataset[i]\n",
    "        prompt = trainer.prepare_prompt(item)\n",
    "        response = model.generate(prompt)\n",
    "        answer = trainer.extract_answer(response)\n",
    "        truth = trainer.get_ground_truth(item)\n",
    "        correct = trainer.check_correctness(answer, truth)\n",
    "        \n",
    "        print(f\"\\nPROBLEM {i+1}:\")\n",
    "        print(f\"Raw Item: {item}\")\n",
    "        print(f\"Prompt: {prompt[:200]}...\")\n",
    "        print(f\"Response: {response[:200]}...\")\n",
    "        print(f\"Extracted: {answer}\")\n",
    "        print(f\"Truth: {truth}\")\n",
    "        print(f\"Correct: {correct}\")\n",
    "        print(\"-\" * 50)"
   ]
  },
  {
   "cell_type": "code",
   "execution_count": 7,
   "id": "07df45fa",
   "metadata": {},
   "outputs": [
    {
     "name": "stdout",
     "output_type": "stream",
     "text": [
      "\\left( 3, \\frac{\\pi}{2} \\right)\n"
     ]
    }
   ],
   "source": []
  },
  {
   "cell_type": "code",
   "execution_count": null,
   "id": "f8dce1ad",
   "metadata": {},
   "outputs": [],
   "source": []
  }
 ],
 "metadata": {
  "kernelspec": {
   "display_name": "Python (sciurus)",
   "language": "python",
   "name": "sciurus"
  },
  "language_info": {
   "codemirror_mode": {
    "name": "ipython",
    "version": 3
   },
   "file_extension": ".py",
   "mimetype": "text/x-python",
   "name": "python",
   "nbconvert_exporter": "python",
   "pygments_lexer": "ipython3",
   "version": "3.10.16"
  }
 },
 "nbformat": 4,
 "nbformat_minor": 5
}
