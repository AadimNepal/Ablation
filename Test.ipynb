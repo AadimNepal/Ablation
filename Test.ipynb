{
 "cells": [
  {
   "cell_type": "code",
   "execution_count": 21,
   "id": "5d4e6284",
   "metadata": {},
   "outputs": [],
   "source": [
    "import os\n",
    "os.environ['CC'] = 'gcc'\n",
    "os.environ['CXX'] = 'g++'\n",
    "os.environ['HF_HOME'] = '/scratch/ss13750/aadim/huggingface_cache'\n",
    "os.environ['HUGGINGFACE_HUB_CACHE'] = '/scratch/ss13750/hf_cache/hub'\n",
    "os.environ['TRANSFORMERS_CACHE'] = '/scratch/ss13750/hf_cache/hub'"
   ]
  },
  {
   "cell_type": "code",
   "execution_count": 22,
   "id": "43fe6479",
   "metadata": {},
   "outputs": [],
   "source": [
    "from vllm import LLM"
   ]
  },
  {
   "cell_type": "code",
   "execution_count": 23,
   "id": "e55cfd41",
   "metadata": {},
   "outputs": [
    {
     "name": "stdout",
     "output_type": "stream",
     "text": [
      "Failed to load GCC module\n",
      "/bin/sh: create_passwd: line 1: syntax error: unexpected end of file\n",
      "/bin/sh: error importing function definition for `create_passwd'\n",
      "/bin/sh: which: line 1: syntax error: unexpected end of file\n",
      "/bin/sh: error importing function definition for `which'\n",
      "/bin/sh: module: line 1: syntax error: unexpected end of file\n",
      "/bin/sh: error importing function definition for `module'\n",
      "/bin/sh: wait_until_port_used: line 1: syntax error: unexpected end of file\n",
      "/bin/sh: error importing function definition for `wait_until_port_used'\n",
      "/bin/sh: spack: line 1: syntax error: unexpected end of file\n",
      "/bin/sh: error importing function definition for `spack'\n",
      "/bin/sh: find_port: line 1: syntax error: unexpected end of file\n",
      "/bin/sh: error importing function definition for `find_port'\n",
      "/bin/sh: port_used: line 1: syntax error: unexpected end of file\n",
      "/bin/sh: error importing function definition for `port_used'\n",
      "/bin/sh: _spack_shell_wrapper: line 1: syntax error: unexpected end of file\n",
      "/bin/sh: error importing function definition for `_spack_shell_wrapper'\n",
      "/bin/sh: random_number: line 1: syntax error: unexpected end of file\n",
      "/bin/sh: error importing function definition for `random_number'\n",
      "/bin/sh: source_helpers: line 1: syntax error: unexpected end of file\n",
      "/bin/sh: error importing function definition for `source_helpers'\n",
      "/bin/sh: ml: line 1: syntax error: unexpected end of file\n",
      "/bin/sh: error importing function definition for `ml'\n",
      "bash: create_passwd: line 1: syntax error: unexpected end of file\n",
      "bash: error importing function definition for `create_passwd'\n",
      "bash: _spack_shell_wrapper: line 1: syntax error: unexpected end of file\n",
      "bash: error importing function definition for `_spack_shell_wrapper'\n",
      "bash: which: line 1: syntax error: unexpected end of file\n",
      "bash: error importing function definition for `which'\n",
      "bash: source_helpers: line 1: syntax error: unexpected end of file\n",
      "bash: error importing function definition for `source_helpers'\n",
      "bash: ml: line 1: syntax error: unexpected end of file\n",
      "bash: error importing function definition for `ml'\n",
      "bash: spack: line 1: syntax error: unexpected end of file\n",
      "bash: error importing function definition for `spack'\n",
      "bash: wait_until_port_used: line 1: syntax error: unexpected end of file\n",
      "bash: error importing function definition for `wait_until_port_used'\n",
      "bash: random_number: line 1: syntax error: unexpected end of file\n",
      "bash: error importing function definition for `random_number'\n",
      "bash: find_port: line 1: syntax error: unexpected end of file\n",
      "bash: error importing function definition for `find_port'\n",
      "bash: module: line 1: syntax error: unexpected end of file\n",
      "bash: error importing function definition for `module'\n",
      "bash: port_used: line 1: syntax error: unexpected end of file\n",
      "bash: error importing function definition for `port_used'\n",
      "/bin/sh: create_passwd: line 1: syntax error: unexpected end of file\n",
      "/bin/sh: error importing function definition for `create_passwd'\n",
      "/bin/sh: _spack_shell_wrapper: line 1: syntax error: unexpected end of file\n",
      "/bin/sh: error importing function definition for `_spack_shell_wrapper'\n",
      "/bin/sh: which: line 1: syntax error: unexpected end of file\n",
      "/bin/sh: error importing function definition for `which'\n",
      "/bin/sh: source_helpers: line 1: syntax error: unexpected end of file\n",
      "/bin/sh: error importing function definition for `source_helpers'\n",
      "/bin/sh: ml: line 1: syntax error: unexpected end of file\n",
      "/bin/sh: error importing function definition for `ml'\n",
      "/bin/sh: spack: line 1: syntax error: unexpected end of file\n",
      "/bin/sh: error importing function definition for `spack'\n",
      "/bin/sh: wait_until_port_used: line 1: syntax error: unexpected end of file\n",
      "/bin/sh: error importing function definition for `wait_until_port_used'\n",
      "/bin/sh: random_number: line 1: syntax error: unexpected end of file\n",
      "/bin/sh: error importing function definition for `random_number'\n",
      "/bin/sh: find_port: line 1: syntax error: unexpected end of file\n",
      "/bin/sh: error importing function definition for `find_port'\n",
      "/bin/sh: module: line 1: syntax error: unexpected end of file\n",
      "/bin/sh: error importing function definition for `module'\n",
      "/bin/sh: port_used: line 1: syntax error: unexpected end of file\n",
      "/bin/sh: error importing function definition for `port_used'\n",
      "/bin/sh: create_passwd: line 1: syntax error: unexpected end of file\n",
      "/bin/sh: error importing function definition for `create_passwd'\n",
      "/bin/sh: _spack_shell_wrapper: line 1: syntax error: unexpected end of file\n",
      "/bin/sh: error importing function definition for `_spack_shell_wrapper'\n",
      "/bin/sh: which: line 1: syntax error: unexpected end of file\n",
      "/bin/sh: error importing function definition for `which'\n",
      "/bin/sh: source_helpers: line 1: syntax error: unexpected end of file\n",
      "/bin/sh: error importing function definition for `source_helpers'\n",
      "/bin/sh: ml: line 1: syntax error: unexpected end of file\n",
      "/bin/sh: error importing function definition for `ml'\n",
      "/bin/sh: spack: line 1: syntax error: unexpected end of file\n",
      "/bin/sh: error importing function definition for `spack'\n",
      "/bin/sh: wait_until_port_used: line 1: syntax error: unexpected end of file\n",
      "/bin/sh: error importing function definition for `wait_until_port_used'\n",
      "/bin/sh: random_number: line 1: syntax error: unexpected end of file\n",
      "/bin/sh: error importing function definition for `random_number'\n",
      "/bin/sh: find_port: line 1: syntax error: unexpected end of file\n",
      "/bin/sh: error importing function definition for `find_port'\n",
      "/bin/sh: module: line 1: syntax error: unexpected end of file\n",
      "/bin/sh: error importing function definition for `module'\n",
      "/bin/sh: port_used: line 1: syntax error: unexpected end of file\n",
      "/bin/sh: error importing function definition for `port_used'\n",
      "/bin/sh: create_passwd: line 1: syntax error: unexpected end of file\n",
      "/bin/sh: error importing function definition for `create_passwd'\n",
      "/bin/sh: _spack_shell_wrapper: line 1: syntax error: unexpected end of file\n",
      "/bin/sh: error importing function definition for `_spack_shell_wrapper'\n",
      "/bin/sh: which: line 1: syntax error: unexpected end of file\n",
      "/bin/sh: error importing function definition for `which'\n",
      "/bin/sh: source_helpers: line 1: syntax error: unexpected end of file\n",
      "/bin/sh: error importing function definition for `source_helpers'\n",
      "/bin/sh: ml: line 1: syntax error: unexpected end of file\n",
      "/bin/sh: error importing function definition for `ml'\n",
      "/bin/sh: spack: line 1: syntax error: unexpected end of file\n",
      "/bin/sh: error importing function definition for `spack'\n",
      "/bin/sh: wait_until_port_used: line 1: syntax error: unexpected end of file\n",
      "/bin/sh: error importing function definition for `wait_until_port_used'\n",
      "/bin/sh: random_number: line 1: syntax error: unexpected end of file\n",
      "/bin/sh: error importing function definition for `random_number'\n",
      "/bin/sh: find_port: line 1: syntax error: unexpected end of file\n",
      "/bin/sh: error importing function definition for `find_port'\n",
      "/bin/sh: module: line 1: syntax error: unexpected end of file\n",
      "/bin/sh: error importing function definition for `module'\n",
      "/bin/sh: port_used: line 1: syntax error: unexpected end of file\n",
      "/bin/sh: error importing function definition for `port_used'\n",
      "/bin/sh: create_passwd: line 1: syntax error: unexpected end of file\n",
      "/bin/sh: error importing function definition for `create_passwd'\n",
      "/bin/sh: _spack_shell_wrapper: line 1: syntax error: unexpected end of file\n",
      "/bin/sh: error importing function definition for `_spack_shell_wrapper'\n",
      "/bin/sh: which: line 1: syntax error: unexpected end of file\n",
      "/bin/sh: error importing function definition for `which'\n",
      "/bin/sh: source_helpers: line 1: syntax error: unexpected end of file\n",
      "/bin/sh: error importing function definition for `source_helpers'\n",
      "/bin/sh: ml: line 1: syntax error: unexpected end of file\n",
      "/bin/sh: error importing function definition for `ml'\n",
      "/bin/sh: spack: line 1: syntax error: unexpected end of file\n",
      "/bin/sh: error importing function definition for `spack'\n",
      "/bin/sh: wait_until_port_used: line 1: syntax error: unexpected end of file\n",
      "/bin/sh: error importing function definition for `wait_until_port_used'\n",
      "/bin/sh: random_number: line 1: syntax error: unexpected end of file\n",
      "/bin/sh: error importing function definition for `random_number'\n",
      "/bin/sh: find_port: line 1: syntax error: unexpected end of file\n",
      "/bin/sh: error importing function definition for `find_port'\n",
      "/bin/sh: module: line 1: syntax error: unexpected end of file\n",
      "/bin/sh: error importing function definition for `module'\n",
      "/bin/sh: port_used: line 1: syntax error: unexpected end of file\n",
      "/bin/sh: error importing function definition for `port_used'\n",
      "Traceback (most recent call last):\n",
      "  File \"/share/apps/NYUAD5/spack/current/bin/spack\", line 62, in <module>\n",
      "    import spack.main  # noqa\n",
      "    ^^^^^^^^^^^^^^^^^\n",
      "  File \"/share/apps/NYUAD5/spack/0.16.2/lib/spack/spack/main.py\", line 19, in <module>\n",
      "    import argparse\n",
      "  File \"/share/apps/NYUAD5/spack/0.16.2/lib/spack/external/argparse.py\", line 97, in <module>\n",
      "    from llnl.util.tty.colify import colified\n",
      "  File \"/share/apps/NYUAD5/spack/0.16.2/lib/spack/llnl/util/tty/__init__.py\", line 18, in <module>\n",
      "    from six.moves import input\n",
      "ModuleNotFoundError: No module named 'six.moves'\n",
      "/bin/sh: create_passwd: line 1: syntax error: unexpected end of file\n",
      "/bin/sh: error importing function definition for `create_passwd'\n",
      "/bin/sh: _spack_shell_wrapper: line 1: syntax error: unexpected end of file\n",
      "/bin/sh: error importing function definition for `_spack_shell_wrapper'\n",
      "/bin/sh: which: line 1: syntax error: unexpected end of file\n",
      "/bin/sh: error importing function definition for `which'\n",
      "/bin/sh: source_helpers: line 1: syntax error: unexpected end of file\n",
      "/bin/sh: error importing function definition for `source_helpers'\n",
      "/bin/sh: ml: line 1: syntax error: unexpected end of file\n",
      "/bin/sh: error importing function definition for `ml'\n",
      "/bin/sh: spack: line 1: syntax error: unexpected end of file\n",
      "/bin/sh: error importing function definition for `spack'\n",
      "/bin/sh: wait_until_port_used: line 1: syntax error: unexpected end of file\n",
      "/bin/sh: error importing function definition for `wait_until_port_used'\n",
      "/bin/sh: random_number: line 1: syntax error: unexpected end of file\n",
      "/bin/sh: error importing function definition for `random_number'\n",
      "/bin/sh: find_port: line 1: syntax error: unexpected end of file\n",
      "/bin/sh: error importing function definition for `find_port'\n",
      "/bin/sh: module: line 1: syntax error: unexpected end of file\n",
      "/bin/sh: error importing function definition for `module'\n",
      "/bin/sh: port_used: line 1: syntax error: unexpected end of file\n",
      "/bin/sh: error importing function definition for `port_used'\n",
      "/bin/sh: create_passwd: line 1: syntax error: unexpected end of file\n",
      "/bin/sh: error importing function definition for `create_passwd'\n",
      "/bin/sh: _spack_shell_wrapper: line 1: syntax error: unexpected end of file\n",
      "/bin/sh: error importing function definition for `_spack_shell_wrapper'\n",
      "/bin/sh: which: line 1: syntax error: unexpected end of file\n",
      "/bin/sh: error importing function definition for `which'\n",
      "/bin/sh: source_helpers: line 1: syntax error: unexpected end of file\n",
      "/bin/sh: error importing function definition for `source_helpers'\n",
      "/bin/sh: ml: line 1: syntax error: unexpected end of file\n",
      "/bin/sh: error importing function definition for `ml'\n",
      "/bin/sh: spack: line 1: syntax error: unexpected end of file\n",
      "/bin/sh: error importing function definition for `spack'\n",
      "/bin/sh: wait_until_port_used: line 1: syntax error: unexpected end of file\n",
      "/bin/sh: error importing function definition for `wait_until_port_used'\n",
      "/bin/sh: random_number: line 1: syntax error: unexpected end of file\n",
      "/bin/sh: error importing function definition for `random_number'\n",
      "/bin/sh: find_port: line 1: syntax error: unexpected end of file\n",
      "/bin/sh: error importing function definition for `find_port'\n",
      "/bin/sh: module: line 1: syntax error: unexpected end of file\n",
      "/bin/sh: error importing function definition for `module'\n",
      "/bin/sh: port_used: line 1: syntax error: unexpected end of file\n",
      "/bin/sh: error importing function definition for `port_used'\n",
      "/bin/sh: create_passwd: line 1: syntax error: unexpected end of file\n",
      "/bin/sh: error importing function definition for `create_passwd'\n",
      "/bin/sh: _spack_shell_wrapper: line 1: syntax error: unexpected end of file\n",
      "/bin/sh: error importing function definition for `_spack_shell_wrapper'\n",
      "/bin/sh: which: line 1: syntax error: unexpected end of file\n",
      "/bin/sh: error importing function definition for `which'\n",
      "/bin/sh: source_helpers: line 1: syntax error: unexpected end of file\n",
      "/bin/sh: error importing function definition for `source_helpers'\n",
      "/bin/sh: ml: line 1: syntax error: unexpected end of file\n",
      "/bin/sh: error importing function definition for `ml'\n",
      "/bin/sh: spack: line 1: syntax error: unexpected end of file\n",
      "/bin/sh: error importing function definition for `spack'\n",
      "/bin/sh: wait_until_port_used: line 1: syntax error: unexpected end of file\n",
      "/bin/sh: error importing function definition for `wait_until_port_used'\n",
      "/bin/sh: random_number: line 1: syntax error: unexpected end of file\n",
      "/bin/sh: error importing function definition for `random_number'\n",
      "/bin/sh: find_port: line 1: syntax error: unexpected end of file\n",
      "/bin/sh: error importing function definition for `find_port'\n",
      "/bin/sh: module: line 1: syntax error: unexpected end of file\n",
      "/bin/sh: error importing function definition for `module'\n",
      "/bin/sh: port_used: line 1: syntax error: unexpected end of file\n",
      "/bin/sh: error importing function definition for `port_used'\n",
      "/etc/profile.d/command.sh: line 1: PROMPT_COMMAND: readonly variable\n",
      "/bin/sh: create_passwd: line 1: syntax error: unexpected end of file\n",
      "/bin/sh: error importing function definition for `create_passwd'\n",
      "/bin/sh: _spack_shell_wrapper: line 1: syntax error: unexpected end of file\n",
      "/bin/sh: error importing function definition for `_spack_shell_wrapper'\n",
      "/bin/sh: which: line 1: syntax error: unexpected end of file\n",
      "/bin/sh: error importing function definition for `which'\n",
      "/bin/sh: source_helpers: line 1: syntax error: unexpected end of file\n",
      "/bin/sh: error importing function definition for `source_helpers'\n",
      "/bin/sh: ml: line 1: syntax error: unexpected end of file\n",
      "/bin/sh: error importing function definition for `ml'\n",
      "/bin/sh: spack: line 1: syntax error: unexpected end of file\n",
      "/bin/sh: error importing function definition for `spack'\n",
      "/bin/sh: wait_until_port_used: line 1: syntax error: unexpected end of file\n",
      "/bin/sh: error importing function definition for `wait_until_port_used'\n",
      "/bin/sh: random_number: line 1: syntax error: unexpected end of file\n",
      "/bin/sh: error importing function definition for `random_number'\n",
      "/bin/sh: find_port: line 1: syntax error: unexpected end of file\n",
      "/bin/sh: error importing function definition for `find_port'\n",
      "/bin/sh: module: line 1: syntax error: unexpected end of file\n",
      "/bin/sh: error importing function definition for `module'\n",
      "/bin/sh: port_used: line 1: syntax error: unexpected end of file\n",
      "/bin/sh: error importing function definition for `port_used'\n",
      "Traceback (most recent call last):\n",
      "  File \"/share/apps/NYUAD5/spack/current/bin/spack\", line 62, in <module>\n",
      "    import spack.main  # noqa\n",
      "    ^^^^^^^^^^^^^^^^^\n",
      "  File \"/share/apps/NYUAD5/spack/0.16.2/lib/spack/spack/main.py\", line 19, in <module>\n",
      "    import argparse\n",
      "  File \"/share/apps/NYUAD5/spack/0.16.2/lib/spack/external/argparse.py\", line 97, in <module>\n",
      "    from llnl.util.tty.colify import colified\n",
      "  File \"/share/apps/NYUAD5/spack/0.16.2/lib/spack/llnl/util/tty/__init__.py\", line 18, in <module>\n",
      "    from six.moves import input\n",
      "ModuleNotFoundError: No module named 'six.moves'\n",
      "/bin/bash: create_passwd: line 1: syntax error: unexpected end of file\n",
      "/bin/bash: error importing function definition for `create_passwd'\n",
      "/bin/bash: _spack_shell_wrapper: line 1: syntax error: unexpected end of file\n",
      "/bin/bash: error importing function definition for `_spack_shell_wrapper'\n",
      "/bin/bash: which: line 1: syntax error: unexpected end of file\n",
      "/bin/bash: error importing function definition for `which'\n",
      "/bin/bash: source_helpers: line 1: syntax error: unexpected end of file\n",
      "/bin/bash: error importing function definition for `source_helpers'\n",
      "/bin/bash: ml: line 1: syntax error: unexpected end of file\n",
      "/bin/bash: error importing function definition for `ml'\n",
      "/bin/bash: spack: line 1: syntax error: unexpected end of file\n",
      "/bin/bash: error importing function definition for `spack'\n",
      "/bin/bash: wait_until_port_used: line 1: syntax error: unexpected end of file\n",
      "/bin/bash: error importing function definition for `wait_until_port_used'\n",
      "/bin/bash: random_number: line 1: syntax error: unexpected end of file\n",
      "/bin/bash: error importing function definition for `random_number'\n",
      "/bin/bash: find_port: line 1: syntax error: unexpected end of file\n",
      "/bin/bash: error importing function definition for `find_port'\n",
      "/bin/bash: module: line 1: syntax error: unexpected end of file\n",
      "/bin/bash: error importing function definition for `module'\n",
      "/bin/bash: port_used: line 1: syntax error: unexpected end of file\n",
      "/bin/bash: error importing function definition for `port_used'\n",
      "\u001b[91mERROR\u001b[0m: Loaded environment state is inconsistent\n",
      "  LOADEDMODULES=gcc/9.2.0\n",
      "  _LMFILES_=\n",
      "\n",
      "GCC version: gcc (GCC) 9.2.0\n"
     ]
    }
   ],
   "source": [
    "import subprocess\n",
    "import os\n",
    "\n",
    "# Execute module load and capture the environment\n",
    "cmd = 'bash -c \"source /etc/profile && module load gcc && env\"'\n",
    "result = subprocess.run(cmd, shell=True, capture_output=True, text=True)\n",
    "\n",
    "if result.returncode == 0:\n",
    "    # Parse environment variables from module load\n",
    "    for line in result.stdout.strip().split('\\n'):\n",
    "        if '=' in line and not line.startswith('_'):  # Skip bash internals\n",
    "            try:\n",
    "                key, value = line.split('=', 1)\n",
    "                os.environ[key] = value\n",
    "            except:\n",
    "                continue\n",
    "    print(\"GCC module loaded successfully\")\n",
    "else:\n",
    "    print(\"Failed to load GCC module\")\n",
    "    print(result.stderr)\n",
    "\n",
    "# Verify GCC is available\n",
    "try:\n",
    "    gcc_result = subprocess.run(['gcc', '--version'], capture_output=True, text=True)\n",
    "    print(\"GCC version:\", gcc_result.stdout.split('\\n')[0])\n",
    "except:\n",
    "    print(\"GCC still not found\")"
   ]
  },
  {
   "cell_type": "code",
   "execution_count": 12,
   "id": "2a44908f",
   "metadata": {},
   "outputs": [
    {
     "name": "stdout",
     "output_type": "stream",
     "text": [
      "WARNING 06-06 01:30:30 [config.py:3135] Casting torch.bfloat16 to torch.float16.\n",
      "INFO 06-06 01:30:30 [config.py:793] This model supports multiple tasks: {'classify', 'embed', 'reward', 'generate', 'score'}. Defaulting to 'generate'.\n",
      "INFO 06-06 01:30:30 [config.py:2118] Chunked prefill is enabled with max_num_batched_tokens=8192.\n",
      "WARNING 06-06 01:30:30 [cuda.py:87] To see benefits of async output processing, enable CUDA graph. Since, enforce-eager is enabled, async output processor cannot be used\n",
      "INFO 06-06 01:30:32 [core.py:438] Waiting for init message from front-end.\n",
      "INFO 06-06 01:30:32 [core.py:65] Initializing a V1 LLM engine (v0.9.0.1) with config: model='Qwen/Qwen2.5-7B', speculative_config=None, tokenizer='Qwen/Qwen2.5-7B', skip_tokenizer_init=False, tokenizer_mode=auto, revision=None, override_neuron_config={}, tokenizer_revision=None, trust_remote_code=True, dtype=torch.float16, max_seq_len=131072, download_dir=None, load_format=auto, tensor_parallel_size=1, pipeline_parallel_size=1, disable_custom_all_reduce=False, quantization=None, enforce_eager=True, kv_cache_dtype=auto,  device_config=cuda, decoding_config=DecodingConfig(backend='auto', disable_fallback=False, disable_any_whitespace=False, disable_additional_properties=False, reasoning_backend=''), observability_config=ObservabilityConfig(show_hidden_metrics_for_version=None, otlp_traces_endpoint=None, collect_detailed_traces=None), seed=0, served_model_name=Qwen/Qwen2.5-7B, num_scheduler_steps=1, multi_step_stream_outputs=True, enable_prefix_caching=True, chunked_prefill_enabled=True, use_async_output_proc=False, pooler_config=None, compilation_config={\"compile_sizes\": [], \"inductor_compile_config\": {\"enable_auto_functionalized_v2\": false}, \"cudagraph_capture_sizes\": [], \"max_capture_size\": 0}\n"
     ]
    },
    {
     "name": "stderr",
     "output_type": "stream",
     "text": [
      "huggingface/tokenizers: The current process just got forked, after parallelism has already been used. Disabling parallelism to avoid deadlocks...\n",
      "To disable this warning, you can either:\n",
      "\t- Avoid using `tokenizers` before the fork if possible\n",
      "\t- Explicitly set the environment variable TOKENIZERS_PARALLELISM=(true | false)\n"
     ]
    },
    {
     "name": "stdout",
     "output_type": "stream",
     "text": [
      "WARNING 06-06 01:30:32 [utils.py:2671] Methods determine_num_available_blocks,device_config,get_cache_block_size_bytes,initialize_cache not implemented in <vllm.v1.worker.gpu_worker.Worker object at 0x15540eab8dc0>\n",
      "INFO 06-06 01:30:33 [parallel_state.py:1064] rank 0 in world size 1 is assigned as DP rank 0, PP rank 0, TP rank 0, EP rank 0\n",
      "WARNING 06-06 01:30:33 [topk_topp_sampler.py:58] FlashInfer is not available. Falling back to the PyTorch-native implementation of top-p & top-k sampling. For the best performance, please install FlashInfer.\n",
      "INFO 06-06 01:30:33 [gpu_model_runner.py:1531] Starting to load model Qwen/Qwen2.5-7B...\n",
      "INFO 06-06 01:30:33 [cuda.py:217] Using Flash Attention backend on V1 engine.\n",
      "INFO 06-06 01:30:34 [weight_utils.py:291] Using model weights format ['*.safetensors']\n"
     ]
    },
    {
     "data": {
      "application/vnd.jupyter.widget-view+json": {
       "model_id": "1459f12c49e844b691a18ca6aa882fbd",
       "version_major": 2,
       "version_minor": 0
      },
      "text/plain": [
       "Loading safetensors checkpoint shards:   0% Completed | 0/4 [00:00<?, ?it/s]\n"
      ]
     },
     "metadata": {},
     "output_type": "display_data"
    },
    {
     "name": "stdout",
     "output_type": "stream",
     "text": [
      "INFO 06-06 01:31:24 [default_loader.py:280] Loading weights took 49.55 seconds\n",
      "INFO 06-06 01:31:24 [gpu_model_runner.py:1549] Model loading took 14.2717 GiB and 50.659268 seconds\n",
      "INFO 06-06 01:31:25 [kv_cache_utils.py:637] GPU KV cache size: 1,028,784 tokens\n",
      "INFO 06-06 01:31:25 [kv_cache_utils.py:640] Maximum concurrency for 131,072 tokens per request: 7.85x\n",
      "INFO 06-06 01:31:26 [core.py:167] init engine (profile, create kv cache, warmup model) took 1.46 seconds\n"
     ]
    }
   ],
   "source": [
    "llm = LLM(model=\"Qwen/Qwen2.5-7B\", trust_remote_code=True, dtype=\"half\", enforce_eager=True)"
   ]
  },
  {
   "cell_type": "code",
   "execution_count": 31,
   "id": "43a24beb",
   "metadata": {},
   "outputs": [],
   "source": [
    "del llm\n",
    "\n",
    "# Clear GPU memory\n",
    "import torch\n",
    "torch.cuda.empty_cache()"
   ]
  },
  {
   "cell_type": "code",
   "execution_count": 13,
   "id": "585fd5a4",
   "metadata": {},
   "outputs": [
    {
     "data": {
      "application/vnd.jupyter.widget-view+json": {
       "model_id": "92482d511164462790a1246587834ddf",
       "version_major": 2,
       "version_minor": 0
      },
      "text/plain": [
       "Adding requests:   0%|          | 0/1 [00:00<?, ?it/s]"
      ]
     },
     "metadata": {},
     "output_type": "display_data"
    },
    {
     "data": {
      "application/vnd.jupyter.widget-view+json": {
       "model_id": "61d727a166444c50ad2c5b99c639794f",
       "version_major": 2,
       "version_minor": 0
      },
      "text/plain": [
       "Processed prompts:   0%|          | 0/1 [00:00<?, ?it/s, est. speed input: 0.00 toks/s, output: 0.00 toks/s]"
      ]
     },
     "metadata": {},
     "output_type": "display_data"
    },
    {
     "data": {
      "text/plain": [
       "[RequestOutput(request_id=0, prompt='May you succeed in life, may your wish come true, may your GPA be over 3.8', prompt_token_ids=[11109, 498, 11996, 304, 2272, 11, 1231, 697, 6426, 2525, 830, 11, 1231, 697, 70055, 387, 916, 220, 18, 13, 23], encoder_prompt=None, encoder_prompt_token_ids=None, prompt_logprobs=None, outputs=[CompletionOutput(index=0, text='. But most of all, may you do what you love.\\nNow that we’ve wrapped up City Week in Chicago on October 23-25, let’s recap just why CiTR chose to attend and what the audiences got to hear from Swan Lake, Hanzel and Grethel and Béla Bartók’s Composition Iv (Arr. for Chamber Orchestra).\\nThough Brittney (swan#1) and Estelle (swan#2) had both tried to make a luxurious gown for up the palace of Moscow, a malignant spell was cast upon them. Two casualties of fate, our girls (swan#2 and swan#1) saw no way out but to sink into the depths of the great lake, Ciselev, surrounded by a gathering of wild swans; out of sight, but not out of mind.\\nBut fortune was never a stranger! (and we’re glad!), for a young prince (Djun Hut) was wandering through the (urban whorehouse) and saw that perched upon a bough, were two beautiful swans. As soon as they saw his blue corakk loin cloth, though, they flew off into the air. Why, it was a wonderful laugh, of course!\\nGrowl, hands, sometimes, say dance criticism. Show. Calm. Hands. Show. (improvise in dance critique after seeing Carmen part 3 by witch clown). Point. Now show. Now point and show. (improvise in dance critique after seeing unexpected steps like pirouettes in Béla Bartók’s Composition Iv that lead our neighbourhood kids) Oh, we should have seen him coming! We need to show him more! What did we miss? What else was there? Hrmph. Tips. More tips. Show me. Hands. (hold hands and members physically as one element of choreography – particularly good for having au Pair kids show our parents the steps of the choreography that were repeated in the Forum). Find the pulsation: keep the steps syncopated!\\nNow as soon as they saw our prince was going to, well, mess around with the bough of trees, VOILA, when they seized him, they got so scared; so scared, they couldn’t stay so graceful either, they both pushed him into the air and out! Well, that tiny act of love was enough to soften her curse-as; so at once, the swans opened their wings and took flight, right to what really was a far away place. Merom, it so happens that Dutch city of Amsterdam.\\nLadies and gentlemen, beloved citizens of Amsterdam, thank you for your warm welcome! You will be easily find the location of our underground slot machine, ManDai (Blue River), But since you’re here anyway, we’re going to tell tales about our guide, Swana! He was a guide indeed, for he did in fact go downtown, with a knight of his own. In fact, there was no stopping him but in fact finding the wooden floated barrels of wines of red, and not tasting\\nEliza and Wendla, your foolish parents, may give you bad advice in this city, with their statues that describes so perfectly the high and easy intimate aspects of their relationship.\\nMerri Rose and her big, round Ford Mustang fought out our little, deaf (dolphin/sonar aware but confusing) Tiragroves, who went on a blitz of dancing acts though our little, rowdy (also rock music) crowd, screaming out such lyrics as\\nHmmm....or it could be their big, metallic fuzz. Oh indices, what fuel are you burning?! Please tell us.\\nHave we lost you? Sure you have when the Bicknells came along too. Women, they belong to no family, and men, they can never be found. Swana went out often, off down the backstreets -not always in the company of an engaged friend! Those in her room acted all alike; they raised odd shapes, and hung big boys. They arrange themselves around these monuments, you see? And, what \\'Tis yonder! Do you see that red thing fastened to the lady riden around the entire world; what do you see? No!\\nI wasn\\'t awake \\'till noon- thought you would lead me!\\nAnd who had not her pure and truly fancy sarong on! And on a worn out copy of Dumbworld, the girl did work on her last project... tugging out on those locks of hair, becoming the voice of her own glory! Bring up! Bring up to this amount of fur, the Landor babies!!! Go inside and get your crab cake! When do I get my crab cake? Two little boys walked into Ascot, into a shop with the patron and got their crab cake~ Times up! Blair it was!\\nYrapped I am in the trey-folds of my myriad-sypedzle, jretched gift-girl, lillirie-labi! O dearer mards of reason, over Happenstides! Tut tut tut! These cunning boys in their nighttime greys ensure that they in green will go free, not to the hunt but for a cock-and-derive-yar. Jo-jojoooo! Yo! Jo-jojojoooo! My(), was it true? Go and convincing.\\nLittle tyrant, you want me! You want me~!\\nAt last, through the lifespan of my clue’s guile-ridden evasionary games, you did hide your voice, a well done spell. Who are my owls?” This and with the cry of death avail to re-avail not! But quick enough the seduction stuck, the creature left me sprayed of leaf; And one all violet over, shirt changed, after the phantastic fate: mistwills, flourdrags of the night and like us, tells the tale of my vemlin-zeptreuse\\'s revelation of a kingdom! And tell me, which was bad? You tug it up for me? Here the \"Range Riding the Horsewomen\" suite… if you’ll indulge me.\\nWho are you?\\nAo no no, if by staff-hook on night and black tortenkappu and binakau night’s blanket cold on my legs, you peeped in the mirror the spring and hear the filli-gap surrounded by the pearly dripping wash of Mona? Maybe that’s your radio, and maybe that was your thin, permeable face that twitched behind the screwed-up windows to hear little hilltop disaster, basso boontgeen knhaar, Mork? I’m just gonna call it out and see what comes up. The people still singing? Fun with furry flamingoes~ I’ll wear the crown.\\nYou are enterprising and better is needed if I’m ever to be mag-guess. But they come in all sizes. I see your little hat! Why, this is quite an improvement! I, too, could violate. Will flavseek away at mine? (clams open for BUGS!) I leave you before, and out of my efforts will come some good chance. I cut an hour\\'s appraisal after an hour of going out. I know my way, so watch those Fords, not all of them! What should I be done with my my! Forget the cheque, Leroy! Jojo: I’m Brooklyn, New York and Brook: We need some keys! In her next big ship, Levon, don’t clap on those seas where a little old lady! She only packs salt and pepper, the salty water and the tunnel thumbs, may brey I’ve seen— No dip front, but all that O is beyond understanding. The little, book loving woman, can’t even speak argot of four personal pedigrees. How do you live? TABLOIAN! You are Botanic, a note, were eaten! The girl of my little women, lady of all things and name sakes of everybody! But search me and I see me first, my beloved and lady lover, BestLRD bumps.\\nwith my perched on cattle and getting a little crew now to catch them up and yeah yeah, here’s a picture of me and yeah if you post that we will trade cameras and so on. Here’s what i mean i saw this dog is like 15 times and i talked in that the will that said that my ties and pussy was all in a pilgrim land especially stuff d huge trees! There’s lots of trees and stuff and i don’t know about you, but i go for it. BRAD! BRAD! BRAD BRAD!! Look called Brad at the Hotel and for some reason I can doesn’t pay me some kind of lonelyin‘ telephone bill. Check on it and see if i get anymore extra phones.', token_ids=[13, 1988, 1429, 315, 678, 11, 1231, 498, 653, 1128, 498, 2948, 624, 7039, 429, 582, 3982, 19472, 705, 4311, 10348, 304, 10557, 389, 6527, 220, 17, 18, 12, 17, 20, 11, 1077, 748, 53999, 1101, 3170, 31644, 2378, 14554, 311, 9417, 323, 1128, 279, 29894, 2684, 311, 6723, 504, 43401, 11678, 11, 472, 12070, 301, 323, 13532, 339, 301, 323, 425, 963, 4260, 28527, 1794, 74, 748, 67106, 33483, 320, 8838, 13, 369, 31379, 53517, 4292, 26733, 63017, 3437, 320, 2280, 276, 2, 16, 8, 323, 9403, 6712, 320, 2280, 276, 2, 17, 8, 1030, 2176, 6679, 311, 1281, 264, 42728, 64410, 369, 705, 279, 43339, 315, 22415, 11, 264, 93229, 12845, 572, 6311, 5193, 1105, 13, 9043, 47888, 315, 24382, 11, 1039, 7571, 320, 2280, 276, 2, 17, 323, 2021, 276, 2, 16, 8, 5485, 902, 1616, 700, 714, 311, 19309, 1119, 279, 42857, 315, 279, 2244, 21800, 11, 356, 1064, 3449, 11, 22865, 553, 264, 22888, 315, 8380, 2021, 596, 26, 700, 315, 13929, 11, 714, 537, 700, 315, 3971, 624, 3983, 32315, 572, 2581, 264, 33958, 0, 320, 437, 582, 3129, 15713, 48643, 369, 264, 3908, 41726, 320, 35, 57681, 66313, 8, 572, 53963, 1526, 279, 320, 59059, 71925, 7675, 8, 323, 5485, 429, 817, 2397, 5193, 264, 293, 1384, 11, 1033, 1378, 6233, 2021, 596, 13, 1634, 5135, 438, 807, 5485, 806, 6303, 1829, 30041, 76960, 27292, 11, 3498, 11, 807, 31022, 1007, 1119, 279, 3720, 13, 8429, 11, 432, 572, 264, 11117, 12550, 11, 315, 3308, 4894, 56788, 75, 11, 6078, 11, 7025, 11, 1977, 15254, 18817, 13, 6928, 13, 3319, 76, 13, 42296, 13, 6928, 13, 320, 318, 42947, 1064, 304, 15254, 42565, 1283, 9120, 69958, 949, 220, 18, 553, 36382, 68468, 568, 5126, 13, 4695, 1473, 13, 4695, 1459, 323, 1473, 13, 320, 318, 42947, 1064, 304, 15254, 42565, 1283, 9120, 16500, 7354, 1075, 29611, 283, 45903, 304, 425, 963, 4260, 28527, 1794, 74, 748, 67106, 33483, 429, 2990, 1039, 39342, 6837, 8, 8670, 11, 582, 1265, 614, 3884, 1435, 5001, 0, 1205, 1184, 311, 1473, 1435, 803, 0, 3555, 1521, 582, 3116, 30, 3555, 770, 572, 1052, 30, 472, 8719, 759, 13, 25704, 13, 4398, 10414, 13, 6928, 752, 13, 42296, 13, 320, 6282, 6078, 323, 3613, 21893, 438, 825, 2392, 315, 49571, 5696, 1365, 7945, 1661, 369, 3432, 7906, 25995, 6837, 1473, 1039, 6562, 279, 7354, 315, 279, 49571, 5696, 429, 1033, 11504, 304, 279, 17538, 568, 7379, 279, 54937, 367, 25, 2506, 279, 7354, 12811, 453, 657, 4894, 7039, 438, 5135, 438, 807, 5485, 1039, 41726, 572, 2087, 311, 11, 1632, 11, 9435, 2163, 448, 279, 293, 1384, 315, 12408, 11, 43652, 97496, 11, 979, 807, 30489, 1435, 11, 807, 2684, 773, 26115, 26, 773, 26115, 11, 807, 7691, 1405, 4717, 773, 77362, 2987, 11, 807, 2176, 15391, 1435, 1119, 279, 3720, 323, 700, 0, 8325, 11, 429, 13673, 1160, 315, 2948, 572, 3322, 311, 79945, 1059, 40000, 32434, 26, 773, 518, 3055, 11, 279, 2021, 596, 8930, 862, 26204, 323, 3867, 10971, 11, 1290, 311, 1128, 2167, 572, 264, 3041, 3123, 1992, 13, 8755, 316, 11, 432, 773, 8573, 429, 23234, 3283, 315, 37741, 624, 43, 17054, 323, 57809, 11, 27430, 10283, 315, 37741, 11, 9702, 498, 369, 697, 8205, 10565, 0, 1446, 686, 387, 6707, 1477, 279, 3728, 315, 1039, 25260, 9446, 5662, 11, 2363, 35, 2143, 320, 10331, 10948, 701, 1988, 2474, 498, 3129, 1588, 13657, 11, 582, 3129, 2087, 311, 3291, 36465, 911, 1039, 8474, 11, 4492, 3362, 0, 1260, 572, 264, 8474, 12824, 11, 369, 566, 1521, 304, 2097, 728, 18907, 11, 448, 264, 46609, 315, 806, 1828, 13, 758, 2097, 11, 1052, 572, 902, 22535, 1435, 714, 304, 2097, 9271, 279, 22360, 66035, 41875, 315, 42755, 315, 2518, 11, 323, 537, 46400, 198, 6582, 17090, 323, 41268, 4260, 11, 697, 45237, 6562, 11, 1231, 2968, 498, 3873, 9462, 304, 419, 3283, 11, 448, 862, 57902, 429, 16555, 773, 13942, 279, 1550, 323, 4135, 31387, 13566, 315, 862, 5025, 624, 26716, 461, 15964, 323, 1059, 2409, 11, 4778, 14010, 52779, 20463, 700, 1039, 2632, 11, 46742, 320, 67, 42970, 258, 14, 930, 277, 7853, 714, 30615, 8, 82555, 351, 299, 2342, 11, 879, 3937, 389, 264, 71434, 315, 27966, 14056, 3498, 1039, 2632, 11, 2802, 10258, 320, 18654, 6946, 4627, 8, 13428, 11, 34001, 700, 1741, 23261, 438, 198, 39, 48886, 1934, 269, 432, 1410, 387, 862, 2409, 11, 45158, 76142, 13, 8670, 14937, 11, 1128, 10416, 525, 498, 19675, 25984, 5209, 3291, 601, 624, 12116, 582, 5558, 498, 30, 22555, 498, 614, 979, 279, 425, 865, 77, 6436, 3697, 3156, 2238, 13, 10973, 11, 807, 9173, 311, 902, 2997, 11, 323, 2953, 11, 807, 646, 2581, 387, 1730, 13, 4492, 3362, 3937, 700, 3545, 11, 1007, 1495, 279, 1182, 66423, 1415, 481, 1921, 2677, 304, 279, 2813, 315, 458, 16634, 4238, 0, 12969, 304, 1059, 3054, 30432, 678, 25992, 26, 807, 9226, 10322, 20816, 11, 323, 18295, 2409, 13007, 13, 2379, 30893, 5577, 2163, 1493, 61903, 11, 498, 1490, 30, 1597, 11, 1128, 364, 51, 285, 379, 14184, 0, 3155, 498, 1490, 429, 2518, 3166, 4937, 6758, 311, 279, 16820, 9279, 268, 2163, 279, 4453, 1879, 26, 1128, 653, 498, 1490, 30, 2308, 4894, 40, 5710, 944, 34347, 364, 83, 483, 37145, 12, 3381, 498, 1035, 2990, 752, 4894, 3036, 879, 1030, 537, 1059, 10526, 323, 9428, 26457, 28047, 644, 389, 0, 1597, 389, 264, 23704, 700, 2975, 315, 422, 3551, 14615, 11, 279, 3743, 1521, 975, 389, 1059, 1537, 2390, 1112, 259, 35268, 700, 389, 1846, 31676, 315, 6869, 11, 10454, 279, 7743, 315, 1059, 1828, 25936, 0, 39124, 705, 0, 39124, 705, 311, 419, 3311, 315, 18241, 11, 279, 11426, 269, 23920, 12069, 5994, 4766, 323, 633, 697, 59412, 19145, 0, 3197, 653, 358, 633, 847, 59412, 19145, 30, 9043, 2632, 13007, 14858, 1119, 39560, 354, 11, 1119, 264, 8061, 448, 279, 35280, 323, 2684, 862, 59412, 19145, 93, 8523, 705, 0, 41869, 432, 572, 4894, 56, 56289, 358, 1079, 304, 279, 4258, 88, 2220, 18431, 315, 847, 51809, 1331, 32501, 89, 273, 11, 502, 61737, 8189, 62870, 11, 326, 483, 404, 645, 2852, 25084, 0, 506, 24253, 261, 296, 2347, 315, 2874, 11, 916, 34700, 268, 267, 3341, 0, 65963, 18060, 18060, 0, 4220, 80679, 13007, 304, 862, 92644, 2816, 1047, 5978, 429, 807, 304, 6176, 686, 728, 1910, 11, 537, 311, 279, 19073, 714, 369, 264, 11272, 9777, 1737, 261, 533, 12034, 277, 13, 10946, 12, 7305, 73, 25761, 0, 43088, 0, 10946, 12, 7305, 7305, 73, 25761, 0, 3017, 1507, 572, 432, 830, 30, 5994, 323, 39561, 624, 38103, 41949, 517, 11, 498, 1366, 752, 0, 1446, 1366, 752, 93, 4894, 1655, 1537, 11, 1526, 279, 60861, 315, 847, 29989, 748, 1675, 457, 3795, 2854, 76732, 658, 3868, 11, 498, 1521, 10265, 697, 7743, 11, 264, 1632, 2814, 12845, 13, 10479, 525, 847, 15570, 4730, 12390, 1096, 323, 448, 279, 15729, 315, 4545, 37911, 311, 312, 12, 70263, 537, 0, 1988, 3974, 3322, 279, 10923, 2654, 15700, 11, 279, 17218, 2115, 752, 77621, 315, 15933, 26, 1597, 825, 678, 79736, 916, 11, 15478, 5497, 11, 1283, 279, 1319, 517, 5064, 24382, 25, 8600, 86, 3305, 11, 19828, 3612, 2032, 315, 279, 3729, 323, 1075, 601, 11, 10742, 279, 23281, 315, 847, 5208, 40926, 12, 54749, 53049, 594, 38910, 315, 264, 25079, 0, 1597, 3291, 752, 11, 892, 572, 3873, 30, 1446, 81615, 432, 705, 369, 752, 30, 5692, 279, 330, 6046, 76319, 279, 33292, 64662, 1, 16182, 1940, 421, 498, 4700, 67090, 752, 624, 15191, 525, 498, 5267, 32, 78, 902, 902, 11, 421, 553, 5570, 33860, 389, 3729, 323, 3691, 16426, 78571, 676, 84, 323, 9544, 585, 2863, 3729, 748, 38039, 9255, 389, 847, 14201, 11, 498, 1051, 747, 291, 304, 279, 17846, 279, 10464, 323, 6723, 279, 5155, 72, 88557, 22865, 553, 279, 281, 22140, 76215, 11369, 315, 98783, 30, 10696, 429, 748, 697, 8887, 11, 323, 7196, 429, 572, 697, 15430, 11, 54324, 480, 3579, 429, 59413, 291, 4815, 279, 56345, 5239, 11030, 311, 6723, 2632, 23946, 3481, 20763, 11, 21529, 78, 708, 544, 709, 268, 1148, 68129, 11, 386, 669, 30, 358, 4249, 1101, 16519, 1618, 432, 700, 323, 1490, 1128, 4041, 705, 13, 576, 1251, 2058, 25083, 30, 16071, 448, 74419, 84623, 7072, 93, 358, 4700, 9850, 279, 26533, 624, 2610, 525, 3725, 33654, 323, 2664, 374, 4362, 421, 358, 4249, 3512, 311, 387, 4878, 2371, 33301, 13, 1988, 807, 2525, 304, 678, 12282, 13, 358, 1490, 697, 2632, 8896, 0, 8429, 11, 419, 374, 5008, 458, 15673, 0, 358, 11, 2238, 11, 1410, 40487, 13, 4841, 18276, 25713, 3123, 518, 10485, 30, 320, 564, 4122, 1787, 369, 68534, 50, 16315, 358, 5274, 498, 1573, 11, 323, 700, 315, 847, 8869, 686, 2525, 1045, 1661, 6012, 13, 358, 3931, 458, 6460, 594, 78292, 1283, 458, 6460, 315, 2087, 700, 13, 358, 1414, 847, 1616, 11, 773, 3736, 1846, 434, 2260, 11, 537, 678, 315, 1105, 0, 3555, 1265, 358, 387, 2814, 448, 847, 847, 0, 60228, 279, 77010, 11, 79840, 2253, 0, 10946, 7305, 25, 358, 4249, 25748, 11, 1532, 4261, 323, 15605, 25, 1205, 1184, 1045, 6894, 0, 758, 1059, 1790, 2409, 8284, 11, 27022, 263, 11, 1513, 1405, 89577, 389, 1846, 51740, 1380, 264, 2632, 2310, 16820, 0, 2932, 1172, 30306, 12021, 323, 24353, 11, 279, 73875, 3015, 323, 279, 25629, 56849, 11, 1231, 5282, 88, 358, 3982, 3884, 2293, 2308, 23604, 4065, 11, 714, 678, 429, 506, 374, 7797, 8660, 13, 576, 2632, 11, 2311, 21258, 5220, 11, 646, 1405, 1496, 6468, 1392, 354, 315, 3040, 4345, 65682, 7858, 13, 2585, 653, 498, 3887, 30, 49176, 1593, 22002, 0, 1446, 525, 23007, 31270, 11, 264, 5185, 11, 1033, 34561, 0, 576, 3743, 315, 847, 2632, 3198, 11, 16820, 315, 678, 2513, 323, 829, 274, 2050, 315, 16083, 0, 1988, 2711, 752, 323, 358, 1490, 752, 1156, 11, 847, 27430, 323, 16820, 30557, 11, 7107, 20117, 35, 64722, 624, 4197, 847, 817, 2397, 389, 35852, 323, 3709, 264, 2632, 13627, 1431, 311, 2287, 1105, 705, 323, 21639, 21639, 11, 1588, 748, 264, 6802, 315, 752, 323, 21639, 421, 498, 1736, 429, 582, 686, 6559, 18139, 323, 773, 389, 13, 5692, 748, 1128, 600, 3076, 600, 5485, 419, 5562, 374, 1075, 220, 16, 20, 3039, 323, 600, 14897, 304, 429, 279, 686, 429, 1053, 429, 847, 19818, 323, 16189, 572, 678, 304, 264, 54598, 318, 4268, 5310, 6259, 294, 6765, 12408, 0, 2619, 748, 10077, 315, 12408, 323, 6259, 323, 600, 1513, 1405, 1414, 911, 498, 11, 714, 600, 728, 369, 432, 13, 18803, 1808, 0, 18803, 1808, 0, 18803, 1808, 18803, 1808, 2928, 9192, 2598, 17041, 518, 279, 14552, 323, 369, 1045, 2874, 358, 646, 3171, 1405, 2291, 752, 1045, 3093, 315, 39566, 258, 14009, 20544, 4031, 13, 4248, 389, 432, 323, 1490, 421, 600, 633, 14584, 4960, 17619, 13, 151643], cumulative_logprob=None, logprobs=None, finish_reason=stop, stop_reason=None)], finished=True, metrics=None, lora_request=None, num_cached_tokens=0, multi_modal_placeholders={})]"
      ]
     },
     "execution_count": 13,
     "metadata": {},
     "output_type": "execute_result"
    }
   ],
   "source": [
    "llm.generate(\"May you succeed in life, may your wish come true, may your GPA be over 3.8\")"
   ]
  },
  {
   "cell_type": "code",
   "execution_count": 27,
   "id": "af0c0277",
   "metadata": {},
   "outputs": [
    {
     "name": "stdout",
     "output_type": "stream",
     "text": [
      "INFO 06-06 02:00:30 [config.py:3131] Downcasting torch.float32 to torch.float16.\n",
      "INFO 06-06 02:00:30 [config.py:793] This model supports multiple tasks: {'classify', 'embed', 'reward', 'generate', 'score'}. Defaulting to 'generate'.\n",
      "INFO 06-06 02:00:30 [config.py:2118] Chunked prefill is enabled with max_num_batched_tokens=8192.\n",
      "INFO 06-06 02:00:30 [core.py:438] Waiting for init message from front-end.\n",
      "INFO 06-06 02:00:30 [core.py:65] Initializing a V1 LLM engine (v0.9.0.1) with config: model='./ablated_model_qwen257bbase_test', speculative_config=None, tokenizer='./ablated_model_qwen257bbase_test', skip_tokenizer_init=False, tokenizer_mode=auto, revision=None, override_neuron_config={}, tokenizer_revision=None, trust_remote_code=True, dtype=torch.float16, max_seq_len=131072, download_dir=None, load_format=auto, tensor_parallel_size=1, pipeline_parallel_size=1, disable_custom_all_reduce=False, quantization=None, enforce_eager=False, kv_cache_dtype=auto,  device_config=cuda, decoding_config=DecodingConfig(backend='auto', disable_fallback=False, disable_any_whitespace=False, disable_additional_properties=False, reasoning_backend=''), observability_config=ObservabilityConfig(show_hidden_metrics_for_version=None, otlp_traces_endpoint=None, collect_detailed_traces=None), seed=0, served_model_name=./ablated_model_qwen257bbase_test, num_scheduler_steps=1, multi_step_stream_outputs=True, enable_prefix_caching=True, chunked_prefill_enabled=True, use_async_output_proc=True, pooler_config=None, compilation_config={\"level\": 3, \"custom_ops\": [\"none\"], \"splitting_ops\": [\"vllm.unified_attention\", \"vllm.unified_attention_with_output\"], \"compile_sizes\": [], \"inductor_compile_config\": {\"enable_auto_functionalized_v2\": false}, \"use_cudagraph\": true, \"cudagraph_num_of_warmups\": 1, \"cudagraph_capture_sizes\": [512, 504, 496, 488, 480, 472, 464, 456, 448, 440, 432, 424, 416, 408, 400, 392, 384, 376, 368, 360, 352, 344, 336, 328, 320, 312, 304, 296, 288, 280, 272, 264, 256, 248, 240, 232, 224, 216, 208, 200, 192, 184, 176, 168, 160, 152, 144, 136, 128, 120, 112, 104, 96, 88, 80, 72, 64, 56, 48, 40, 32, 24, 16, 8, 4, 2, 1], \"max_capture_size\": 512}\n"
     ]
    },
    {
     "name": "stderr",
     "output_type": "stream",
     "text": [
      "huggingface/tokenizers: The current process just got forked, after parallelism has already been used. Disabling parallelism to avoid deadlocks...\n",
      "To disable this warning, you can either:\n",
      "\t- Avoid using `tokenizers` before the fork if possible\n",
      "\t- Explicitly set the environment variable TOKENIZERS_PARALLELISM=(true | false)\n"
     ]
    },
    {
     "name": "stdout",
     "output_type": "stream",
     "text": [
      "WARNING 06-06 02:00:31 [utils.py:2671] Methods determine_num_available_blocks,device_config,get_cache_block_size_bytes,initialize_cache not implemented in <vllm.v1.worker.gpu_worker.Worker object at 0x15555039b580>\n",
      "INFO 06-06 02:00:31 [parallel_state.py:1064] rank 0 in world size 1 is assigned as DP rank 0, PP rank 0, TP rank 0, EP rank 0\n",
      "WARNING 06-06 02:00:31 [topk_topp_sampler.py:58] FlashInfer is not available. Falling back to the PyTorch-native implementation of top-p & top-k sampling. For the best performance, please install FlashInfer.\n",
      "INFO 06-06 02:00:31 [gpu_model_runner.py:1531] Starting to load model ./ablated_model_qwen257bbase_test...\n",
      "INFO 06-06 02:00:32 [cuda.py:217] Using Flash Attention backend on V1 engine.\n",
      "INFO 06-06 02:00:32 [backends.py:35] Using InductorAdaptor\n"
     ]
    },
    {
     "data": {
      "application/vnd.jupyter.widget-view+json": {
       "model_id": "5365844eaa1d4ba78ba112d757789cec",
       "version_major": 2,
       "version_minor": 0
      },
      "text/plain": [
       "Loading safetensors checkpoint shards:   0% Completed | 0/7 [00:00<?, ?it/s]\n"
      ]
     },
     "metadata": {},
     "output_type": "display_data"
    },
    {
     "name": "stdout",
     "output_type": "stream",
     "text": [
      "INFO 06-06 02:07:11 [default_loader.py:280] Loading weights took 398.90 seconds\n",
      "INFO 06-06 02:07:11 [gpu_model_runner.py:1549] Model loading took 14.2717 GiB and 399.351792 seconds\n",
      "INFO 06-06 02:07:21 [backends.py:459] Using cache directory: /home/ss13750/.cache/vllm/torch_compile_cache/496bfc4129/rank_0_0 for vLLM's torch.compile\n",
      "INFO 06-06 02:07:21 [backends.py:469] Dynamo bytecode transform time: 10.33 s\n",
      "INFO 06-06 02:07:27 [backends.py:158] Cache the graph of shape None for later use\n",
      "INFO 06-06 02:07:59 [backends.py:170] Compiling a graph for general shape takes 37.26 s\n",
      "INFO 06-06 02:08:12 [monitor.py:33] torch.compile takes 47.59 s in total\n",
      "INFO 06-06 02:08:13 [kv_cache_utils.py:637] GPU KV cache size: 1,028,784 tokens\n",
      "INFO 06-06 02:08:13 [kv_cache_utils.py:640] Maximum concurrency for 131,072 tokens per request: 7.85x\n",
      "INFO 06-06 02:08:43 [gpu_model_runner.py:1933] Graph capturing finished in 29 secs, took 1.42 GiB\n",
      "INFO 06-06 02:08:43 [core.py:167] init engine (profile, create kv cache, warmup model) took 91.66 seconds\n"
     ]
    }
   ],
   "source": [
    "llm = LLM(\n",
    "    model=\"./ablated_model_qwen257bbase_test\", \n",
    "    trust_remote_code=True, \n",
    "    dtype=\"half\", \n",
    "    enforce_eager=False\n",
    ")"
   ]
  },
  {
   "cell_type": "code",
   "execution_count": 32,
   "id": "c2016024",
   "metadata": {},
   "outputs": [
    {
     "data": {
      "application/vnd.jupyter.widget-view+json": {
       "model_id": "a1799f29e4f34ca49355b3715cfd204a",
       "version_major": 2,
       "version_minor": 0
      },
      "text/plain": [
       "Loading checkpoint shards:   0%|          | 0/7 [00:00<?, ?it/s]"
      ]
     },
     "metadata": {},
     "output_type": "display_data"
    },
    {
     "name": "stdout",
     "output_type": "stream",
     "text": [
      "Layer 11: attention=ZERO, mlp=ZERO\n"
     ]
    }
   ],
   "source": [
    "from transformers import AutoModelForCausalLM\n",
    "import torch\n",
    "\n",
    "# Load checkpoint\n",
    "model = AutoModelForCausalLM.from_pretrained(\"./ablated_model_qwen257bbase_test\", trust_remote_code=True)\n",
    "\n",
    "# Check each layer\n",
    "for i, layer in enumerate(model.model.layers):\n",
    "    # Check attention weights\n",
    "    attn_zero = all(torch.all(getattr(layer.self_attn, proj).weight == 0) \n",
    "                   for proj in ['q_proj', 'k_proj', 'v_proj', 'o_proj'])\n",
    "    \n",
    "    # Check MLP weights  \n",
    "    mlp_zero = all(torch.all(getattr(layer.mlp, proj).weight == 0)\n",
    "                  for proj in ['gate_proj', 'up_proj', 'down_proj'])\n",
    "    \n",
    "    if attn_zero or mlp_zero:\n",
    "        print(f\"Layer {i}: attention={'ZERO' if attn_zero else 'OK'}, mlp={'ZERO' if mlp_zero else 'OK'}\")"
   ]
  },
  {
   "cell_type": "code",
   "execution_count": null,
   "id": "2e024924",
   "metadata": {},
   "outputs": [],
   "source": []
  }
 ],
 "metadata": {
  "kernelspec": {
   "display_name": "Python (sciurus)",
   "language": "python",
   "name": "sciurus"
  },
  "language_info": {
   "codemirror_mode": {
    "name": "ipython",
    "version": 3
   },
   "file_extension": ".py",
   "mimetype": "text/x-python",
   "name": "python",
   "nbconvert_exporter": "python",
   "pygments_lexer": "ipython3",
   "version": "3.10.16"
  }
 },
 "nbformat": 4,
 "nbformat_minor": 5
}
